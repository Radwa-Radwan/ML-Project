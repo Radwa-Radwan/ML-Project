{
  "nbformat": 4,
  "nbformat_minor": 0,
  "metadata": {
    "colab": {
      "provenance": [],
      "authorship_tag": "ABX9TyPlPoJPBbdlz5//fSK/ZoE9",
      "include_colab_link": true
    },
    "kernelspec": {
      "name": "python3",
      "display_name": "Python 3"
    },
    "language_info": {
      "name": "python"
    }
  },
  "cells": [
    {
      "cell_type": "markdown",
      "metadata": {
        "id": "view-in-github",
        "colab_type": "text"
      },
      "source": [
        "<a href=\"https://colab.research.google.com/github/Radwa-Radwan/ML-Project/blob/main/ML_Final.ipynb\" target=\"_parent\"><img src=\"https://colab.research.google.com/assets/colab-badge.svg\" alt=\"Open In Colab\"/></a>"
      ]
    },
    {
      "cell_type": "code",
      "execution_count": 3,
      "metadata": {
        "id": "Gv0vO71enJYc"
      },
      "outputs": [],
      "source": [
        "from bs4 import BeautifulSoup\n",
        "import requests"
      ]
    },
    {
      "cell_type": "code",
      "source": [
        "url=\"https://www.argumentopolitico.com/search/label/Pol%C3%ADtica\"\n",
        "\n",
        "res = requests.get(url)\n",
        "soup = BeautifulSoup(res.text)"
      ],
      "metadata": {
        "id": "Kn0UHmsxqz0W"
      },
      "execution_count": 4,
      "outputs": []
    },
    {
      "cell_type": "code",
      "source": [
        "fake_news=soup.select('.entry-title a')\n",
        "fake_news"
      ],
      "metadata": {
        "colab": {
          "base_uri": "https://localhost:8080/"
        },
        "id": "H8Aib8h_th-A",
        "outputId": "e0803347-834d-4caf-cc3e-dbf854dd97b8"
      },
      "execution_count": 6,
      "outputs": [
        {
          "output_type": "execute_result",
          "data": {
            "text/plain": [
              "[<a href=\"https://www.argumentopolitico.com/2020/09/abogada-denuncia-amlo-por-muerte-de.html\">\n",
              " Abogada denuncia  a AMLO por muerte de niño 2 años por falta de medicamento contra cáncer\n",
              " </a>,\n",
              " <a href=\"https://www.argumentopolitico.com/2020/09/enamora-excandidata-del-pri-al-dar.html\">\n",
              " Enamora excandidata del PRI al dar despensas en cuarentena; tiene unos enormes sentimientos\n",
              " </a>,\n",
              " <a href=\"https://www.argumentopolitico.com/2020/09/aqui-esta-el-pri-el-partido-de-las.html\">\n",
              " «Aquí está el PRI, el Partido de las Mujeres»: Nosotros si las cuidamos, AMLO no sirve\n",
              " </a>,\n",
              " <a href=\"https://www.argumentopolitico.com/2020/09/miles-de-chairos-piden-que-para-2021-se.html\">\n",
              " Miles de chairos piden que para 2021 se rife la Casa Blanca de “La Gaviota”.\n",
              " </a>,\n",
              " <a href=\"https://www.argumentopolitico.com/2020/09/abuelitos-compran-cachitos-tras-recibir.html\">\n",
              " Abuelitos compran “cachitos” tras recibir operación en el IMSS “quieren devolver un poco\"\n",
              " </a>,\n",
              " <a href=\"https://www.argumentopolitico.com/2020/09/revelan-sueldazo-que-cobraria-galilea.html\">\n",
              " Revelan sueldazo que cobraría Galilea Montijo en Latinus de Loret de Mola para tundir al inutil de AMLO\n",
              " </a>,\n",
              " <a href=\"https://www.argumentopolitico.com/2020/09/fueron-unas-ratas-corruptas-ladrones-y.html\">\n",
              " “Fueron unas ratas corruptas, ladrones y tramposos”, Damián Alcázar llama a realizar juicio a expresidentes\n",
              " </a>,\n",
              " <a href=\"https://www.argumentopolitico.com/2020/03/ricardo-aleman-se-suma-convoca-nuevas.html\">\n",
              " Ricardo Alemán se suma, convoca a nuevas elecciones y la destitución de AMLO basados en el Articulo 39 y 87 de la Constitución\n",
              " </a>,\n",
              " <a href=\"https://www.argumentopolitico.com/2020/03/el-pri-ha-sacado-de-la-miseria-este.html\">\n",
              " El PRI ha sacado de la miseria a este país\": José Narro Robles \n",
              " </a>,\n",
              " <a href=\"https://www.argumentopolitico.com/2019/01/ya-son-300-mil-firmas-que-piden-que.html\">\n",
              " Ya son 300 mil firmas que  piden que Carmen Salinas termine en prisión. ¿Estas de acuerdo?\n",
              " </a>,\n",
              " <a href=\"https://www.argumentopolitico.com/2019/01/el-hijo-del-corrupto-de-obrador-usa_18.html\">\n",
              " El Hijo del corrupto de Obrador usa camisas de más de 6 mil pesos: Ricardo Alemán  \n",
              " </a>,\n",
              " <a href=\"https://www.argumentopolitico.com/2019/01/las-mujeres-y-hombres-del-pri-somos-los.html\">\n",
              "  Las mujeres y hombres del (PRI) somos los únicos con capacidad para gobernar: Enrique Ochoa\n",
              " </a>,\n",
              " <a href=\"https://www.argumentopolitico.com/2018/10/diputada-de-morena-teme-por-su-vida-al.html\">\n",
              "   Diputada de Morena \"Teme por su vida\" al destapar el fraude de la reforma energética de Peña Nieto.\n",
              " </a>,\n",
              " <a href=\"https://www.argumentopolitico.com/2018/10/marti-batres-presento-una-iniciativa.html\">\n",
              "  Martí Batres  presento una iniciativa para juzgar a Salinas, Zedillo, Fox, Calderón y Peña\n",
              " </a>,\n",
              " <a href=\"https://www.argumentopolitico.com/2018/10/le-arrojan-tacos-y-comida-angelica.html\">\n",
              " Le arrojan tacos y comida a Angélica Rivera y a sus hijas mientras pasean en Xochimilco \n",
              " </a>]"
            ]
          },
          "metadata": {},
          "execution_count": 6
        }
      ]
    },
    {
      "cell_type": "code",
      "source": [
        "news_titles = [title.text for title in fake_news]\n",
        "news_links = [\"https://www.argumentopolitico.com/\"+title[\"href\"] for title in fake_news]\n",
        "\n",
        "news_titles"
      ],
      "metadata": {
        "colab": {
          "base_uri": "https://localhost:8080/"
        },
        "id": "AZaK1NhBvPEG",
        "outputId": "11879aaf-a71b-4483-b1c9-36354a2ad242"
      },
      "execution_count": null,
      "outputs": [
        {
          "output_type": "execute_result",
          "data": {
            "text/plain": [
              "['\\nAbogada denuncia  a AMLO por muerte de niño 2 años por falta de medicamento contra cáncer\\n',\n",
              " '\\nEnamora excandidata del PRI al dar despensas en cuarentena; tiene unos enormes sentimientos\\n',\n",
              " '\\n«Aquí está el PRI, el Partido de las Mujeres»: Nosotros si las cuidamos, AMLO no sirve\\n',\n",
              " '\\nMiles de chairos piden que para 2021 se rife la Casa Blanca de “La Gaviota”.\\n',\n",
              " '\\nAbuelitos compran “cachitos” tras recibir operación en el IMSS “quieren devolver un poco\"\\n',\n",
              " '\\nRevelan sueldazo que cobraría Galilea Montijo en Latinus de Loret de Mola para tundir al inutil de AMLO\\n',\n",
              " '\\n“Fueron unas ratas corruptas, ladrones y tramposos”, Damián Alcázar llama a realizar juicio a expresidentes\\n',\n",
              " '\\nRicardo Alemán se suma, convoca a nuevas elecciones y la destitución de AMLO basados en el Articulo 39 y 87 de la Constitución\\n',\n",
              " '\\nEl PRI ha sacado de la miseria a este país\": José Narro Robles \\n',\n",
              " '\\nYa son 300 mil firmas que  piden que Carmen Salinas termine en prisión. ¿Estas de acuerdo?\\n',\n",
              " '\\nEl Hijo del corrupto de Obrador usa camisas de más de 6 mil pesos: Ricardo Alemán  \\n',\n",
              " '\\n Las mujeres y hombres del (PRI) somos los únicos con capacidad para gobernar: Enrique Ochoa\\n',\n",
              " '\\n  Diputada de Morena \"Teme por su vida\" al destapar el fraude de la reforma energética de Peña Nieto.\\n',\n",
              " '\\n Martí Batres  presento una iniciativa para juzgar a Salinas, Zedillo, Fox, Calderón y Peña\\n',\n",
              " '\\nLe arrojan tacos y comida a Angélica Rivera y a sus hijas mientras pasean en Xochimilco \\n']"
            ]
          },
          "metadata": {},
          "execution_count": 49
        }
      ]
    },
    {
      "cell_type": "code",
      "source": [
        "import pandas as pd\n"
      ],
      "metadata": {
        "id": "LLs89QoDvqpo"
      },
      "execution_count": null,
      "outputs": []
    },
    {
      "cell_type": "code",
      "source": [
        "titles_df= pd.DataFrame(news_titles, columns=['titles'])\n",
        "titles_df"
      ],
      "metadata": {
        "colab": {
          "base_uri": "https://localhost:8080/",
          "height": 520
        },
        "id": "OOLRUfjPv0Y3",
        "outputId": "17d7c9dd-8699-41f5-8c5a-6982304b1a83"
      },
      "execution_count": null,
      "outputs": [
        {
          "output_type": "execute_result",
          "data": {
            "text/plain": [
              "                                               titles\n",
              "0   \\nAbogada denuncia  a AMLO por muerte de niño ...\n",
              "1   \\nEnamora excandidata del PRI al dar despensas...\n",
              "2   \\n«Aquí está el PRI, el Partido de las Mujeres...\n",
              "3   \\nMiles de chairos piden que para 2021 se rife...\n",
              "4   \\nAbuelitos compran “cachitos” tras recibir op...\n",
              "5   \\nRevelan sueldazo que cobraría Galilea Montij...\n",
              "6   \\n“Fueron unas ratas corruptas, ladrones y tra...\n",
              "7   \\nRicardo Alemán se suma, convoca a nuevas ele...\n",
              "8   \\nEl PRI ha sacado de la miseria a este país\":...\n",
              "9   \\nYa son 300 mil firmas que  piden que Carmen ...\n",
              "10  \\nEl Hijo del corrupto de Obrador usa camisas ...\n",
              "11  \\n Las mujeres y hombres del (PRI) somos los ú...\n",
              "12  \\n  Diputada de Morena \"Teme por su vida\" al d...\n",
              "13  \\n Martí Batres  presento una iniciativa para ...\n",
              "14  \\nLe arrojan tacos y comida a Angélica Rivera ..."
            ],
            "text/html": [
              "\n",
              "  <div id=\"df-3501bf22-6ef2-4353-bccd-94141f6a32fb\">\n",
              "    <div class=\"colab-df-container\">\n",
              "      <div>\n",
              "<style scoped>\n",
              "    .dataframe tbody tr th:only-of-type {\n",
              "        vertical-align: middle;\n",
              "    }\n",
              "\n",
              "    .dataframe tbody tr th {\n",
              "        vertical-align: top;\n",
              "    }\n",
              "\n",
              "    .dataframe thead th {\n",
              "        text-align: right;\n",
              "    }\n",
              "</style>\n",
              "<table border=\"1\" class=\"dataframe\">\n",
              "  <thead>\n",
              "    <tr style=\"text-align: right;\">\n",
              "      <th></th>\n",
              "      <th>titles</th>\n",
              "    </tr>\n",
              "  </thead>\n",
              "  <tbody>\n",
              "    <tr>\n",
              "      <th>0</th>\n",
              "      <td>\\nAbogada denuncia  a AMLO por muerte de niño ...</td>\n",
              "    </tr>\n",
              "    <tr>\n",
              "      <th>1</th>\n",
              "      <td>\\nEnamora excandidata del PRI al dar despensas...</td>\n",
              "    </tr>\n",
              "    <tr>\n",
              "      <th>2</th>\n",
              "      <td>\\n«Aquí está el PRI, el Partido de las Mujeres...</td>\n",
              "    </tr>\n",
              "    <tr>\n",
              "      <th>3</th>\n",
              "      <td>\\nMiles de chairos piden que para 2021 se rife...</td>\n",
              "    </tr>\n",
              "    <tr>\n",
              "      <th>4</th>\n",
              "      <td>\\nAbuelitos compran “cachitos” tras recibir op...</td>\n",
              "    </tr>\n",
              "    <tr>\n",
              "      <th>5</th>\n",
              "      <td>\\nRevelan sueldazo que cobraría Galilea Montij...</td>\n",
              "    </tr>\n",
              "    <tr>\n",
              "      <th>6</th>\n",
              "      <td>\\n“Fueron unas ratas corruptas, ladrones y tra...</td>\n",
              "    </tr>\n",
              "    <tr>\n",
              "      <th>7</th>\n",
              "      <td>\\nRicardo Alemán se suma, convoca a nuevas ele...</td>\n",
              "    </tr>\n",
              "    <tr>\n",
              "      <th>8</th>\n",
              "      <td>\\nEl PRI ha sacado de la miseria a este país\":...</td>\n",
              "    </tr>\n",
              "    <tr>\n",
              "      <th>9</th>\n",
              "      <td>\\nYa son 300 mil firmas que  piden que Carmen ...</td>\n",
              "    </tr>\n",
              "    <tr>\n",
              "      <th>10</th>\n",
              "      <td>\\nEl Hijo del corrupto de Obrador usa camisas ...</td>\n",
              "    </tr>\n",
              "    <tr>\n",
              "      <th>11</th>\n",
              "      <td>\\n Las mujeres y hombres del (PRI) somos los ú...</td>\n",
              "    </tr>\n",
              "    <tr>\n",
              "      <th>12</th>\n",
              "      <td>\\n  Diputada de Morena \"Teme por su vida\" al d...</td>\n",
              "    </tr>\n",
              "    <tr>\n",
              "      <th>13</th>\n",
              "      <td>\\n Martí Batres  presento una iniciativa para ...</td>\n",
              "    </tr>\n",
              "    <tr>\n",
              "      <th>14</th>\n",
              "      <td>\\nLe arrojan tacos y comida a Angélica Rivera ...</td>\n",
              "    </tr>\n",
              "  </tbody>\n",
              "</table>\n",
              "</div>\n",
              "      <button class=\"colab-df-convert\" onclick=\"convertToInteractive('df-3501bf22-6ef2-4353-bccd-94141f6a32fb')\"\n",
              "              title=\"Convert this dataframe to an interactive table.\"\n",
              "              style=\"display:none;\">\n",
              "        \n",
              "  <svg xmlns=\"http://www.w3.org/2000/svg\" height=\"24px\"viewBox=\"0 0 24 24\"\n",
              "       width=\"24px\">\n",
              "    <path d=\"M0 0h24v24H0V0z\" fill=\"none\"/>\n",
              "    <path d=\"M18.56 5.44l.94 2.06.94-2.06 2.06-.94-2.06-.94-.94-2.06-.94 2.06-2.06.94zm-11 1L8.5 8.5l.94-2.06 2.06-.94-2.06-.94L8.5 2.5l-.94 2.06-2.06.94zm10 10l.94 2.06.94-2.06 2.06-.94-2.06-.94-.94-2.06-.94 2.06-2.06.94z\"/><path d=\"M17.41 7.96l-1.37-1.37c-.4-.4-.92-.59-1.43-.59-.52 0-1.04.2-1.43.59L10.3 9.45l-7.72 7.72c-.78.78-.78 2.05 0 2.83L4 21.41c.39.39.9.59 1.41.59.51 0 1.02-.2 1.41-.59l7.78-7.78 2.81-2.81c.8-.78.8-2.07 0-2.86zM5.41 20L4 18.59l7.72-7.72 1.47 1.35L5.41 20z\"/>\n",
              "  </svg>\n",
              "      </button>\n",
              "      \n",
              "  <style>\n",
              "    .colab-df-container {\n",
              "      display:flex;\n",
              "      flex-wrap:wrap;\n",
              "      gap: 12px;\n",
              "    }\n",
              "\n",
              "    .colab-df-convert {\n",
              "      background-color: #E8F0FE;\n",
              "      border: none;\n",
              "      border-radius: 50%;\n",
              "      cursor: pointer;\n",
              "      display: none;\n",
              "      fill: #1967D2;\n",
              "      height: 32px;\n",
              "      padding: 0 0 0 0;\n",
              "      width: 32px;\n",
              "    }\n",
              "\n",
              "    .colab-df-convert:hover {\n",
              "      background-color: #E2EBFA;\n",
              "      box-shadow: 0px 1px 2px rgba(60, 64, 67, 0.3), 0px 1px 3px 1px rgba(60, 64, 67, 0.15);\n",
              "      fill: #174EA6;\n",
              "    }\n",
              "\n",
              "    [theme=dark] .colab-df-convert {\n",
              "      background-color: #3B4455;\n",
              "      fill: #D2E3FC;\n",
              "    }\n",
              "\n",
              "    [theme=dark] .colab-df-convert:hover {\n",
              "      background-color: #434B5C;\n",
              "      box-shadow: 0px 1px 3px 1px rgba(0, 0, 0, 0.15);\n",
              "      filter: drop-shadow(0px 1px 2px rgba(0, 0, 0, 0.3));\n",
              "      fill: #FFFFFF;\n",
              "    }\n",
              "  </style>\n",
              "\n",
              "      <script>\n",
              "        const buttonEl =\n",
              "          document.querySelector('#df-3501bf22-6ef2-4353-bccd-94141f6a32fb button.colab-df-convert');\n",
              "        buttonEl.style.display =\n",
              "          google.colab.kernel.accessAllowed ? 'block' : 'none';\n",
              "\n",
              "        async function convertToInteractive(key) {\n",
              "          const element = document.querySelector('#df-3501bf22-6ef2-4353-bccd-94141f6a32fb');\n",
              "          const dataTable =\n",
              "            await google.colab.kernel.invokeFunction('convertToInteractive',\n",
              "                                                     [key], {});\n",
              "          if (!dataTable) return;\n",
              "\n",
              "          const docLinkHtml = 'Like what you see? Visit the ' +\n",
              "            '<a target=\"_blank\" href=https://colab.research.google.com/notebooks/data_table.ipynb>data table notebook</a>'\n",
              "            + ' to learn more about interactive tables.';\n",
              "          element.innerHTML = '';\n",
              "          dataTable['output_type'] = 'display_data';\n",
              "          await google.colab.output.renderOutput(dataTable, element);\n",
              "          const docLink = document.createElement('div');\n",
              "          docLink.innerHTML = docLinkHtml;\n",
              "          element.appendChild(docLink);\n",
              "        }\n",
              "      </script>\n",
              "    </div>\n",
              "  </div>\n",
              "  "
            ]
          },
          "metadata": {},
          "execution_count": 51
        }
      ]
    },
    {
      "cell_type": "code",
      "source": [
        "url_2=\"https://nacionunida.com/\"\n",
        "\n",
        "res = requests.get(url_2)\n",
        "soup_2 = BeautifulSoup(res.text)"
      ],
      "metadata": {
        "id": "FyYWWeqxDZ9b"
      },
      "execution_count": null,
      "outputs": []
    },
    {
      "cell_type": "code",
      "source": [
        "fake_news_2=soup_2.select('#post-items .entry-title a')\n",
        "fake_news_2"
      ],
      "metadata": {
        "colab": {
          "base_uri": "https://localhost:8080/"
        },
        "id": "uUBs7U2qD6VL",
        "outputId": "feb499fe-8b43-4d0f-8b48-71bbf4bcfde3"
      },
      "execution_count": null,
      "outputs": [
        {
          "output_type": "execute_result",
          "data": {
            "text/plain": [
              "[<a href=\"https://nacionunida.com/2020/02/11/el-fobaproa-la-deuda-interminable-del-prian-que-se-terminara-de-pagar-en-50-anos/\" rel=\"bookmark\">El Fobaproa, la deuda interminable del PRIAN que se terminará de pagar en 50 años</a>,\n",
              " <a href=\"https://nacionunida.com/2019/03/22/profeco-advierte-que-nutrileche-no-es-leche-no-debe-llevar-una-vaca-pintada-y-no-debiera-llamarse-nutrileche/\" rel=\"bookmark\">PROFECO advierte que Nutrileche NO es leche; »No debe llevar una vaca pintada y no debiera llamarse Nutrileche.»</a>,\n",
              " <a href=\"https://nacionunida.com/2018/11/16/fuerte-golpe-al-prian-senado-aprueba-confiscar-propiedades-y-cuentas-politicos-corruptos/\" rel=\"bookmark\">Fuerte golpe al PRIAN: Senado aprueba confiscar bienes provenientes de corrupción</a>,\n",
              " <a href=\"https://nacionunida.com/2019/02/28/estos-son-los-telefonos-para-que-llames-y-te-censen-para-el-programa-bienestar-si-aun-no-te-llaman/\" rel=\"bookmark\">Estos son los TELÉFONOS para que llames y te censen para el programa Bienestar, si aún no te llaman</a>,\n",
              " <a href=\"https://nacionunida.com/2018/11/19/revelan-que-angelica-rivera-y-esposa-de-osorio-chong-gastaron-2-mil-millones-de-pesos-en-muebles-ropa-y-viajes/\" rel=\"bookmark\">Revelan que Angélica Rivera y esposa de Osorio Chong gastaron 2 mil millones de pesos en muebles, ropa y viajes</a>,\n",
              " <a href=\"https://nacionunida.com/2018/03/06/la-descendiente-miguel-hidalgo-costilla-vive-chihuahua/\" rel=\"bookmark\">Ella es la descendiente de Miguel Hidalgo y Costilla, vive en Chihuahua</a>]"
            ]
          },
          "metadata": {},
          "execution_count": 60
        }
      ]
    },
    {
      "cell_type": "code",
      "source": [
        "news_titles_web2_21_11 = [title.text for title in fake_news_2]\n",
        "news_links_web2_21_11 = [\"https://nacionunida.com/\"+title[\"href\"] for title in fake_news_2]\n",
        "\n",
        "news_titles_web2_21_11"
      ],
      "metadata": {
        "colab": {
          "base_uri": "https://localhost:8080/"
        },
        "id": "wSTm5bY6DmAF",
        "outputId": "dd0bfdb7-4bc7-4c73-a035-f27260142e09"
      },
      "execution_count": null,
      "outputs": [
        {
          "output_type": "execute_result",
          "data": {
            "text/plain": [
              "['El Fobaproa, la deuda interminable del PRIAN que se terminará de pagar en 50 años',\n",
              " 'PROFECO advierte que Nutrileche NO es leche; »No debe llevar una vaca pintada y no debiera llamarse Nutrileche.»',\n",
              " 'Fuerte golpe al PRIAN: Senado aprueba confiscar bienes provenientes de corrupción',\n",
              " 'Estos son los TELÉFONOS para que llames y te censen para el programa Bienestar, si aún no te llaman',\n",
              " 'Revelan que Angélica Rivera y esposa de Osorio Chong gastaron 2 mil millones de pesos en muebles, ropa y viajes',\n",
              " 'Ella es la descendiente de Miguel Hidalgo y Costilla, vive en Chihuahua']"
            ]
          },
          "metadata": {},
          "execution_count": 61
        }
      ]
    },
    {
      "cell_type": "code",
      "source": [
        "titles_df2= pd.DataFrame(news_titles_web2_21_11, columns=['titles'])\n",
        "titles_df2"
      ],
      "metadata": {
        "colab": {
          "base_uri": "https://localhost:8080/",
          "height": 237
        },
        "id": "xX-Dfb2OF7D_",
        "outputId": "2ecc824d-b188-4ebd-968f-9cc38dcc150f"
      },
      "execution_count": null,
      "outputs": [
        {
          "output_type": "execute_result",
          "data": {
            "text/plain": [
              "                                              titles\n",
              "0  El Fobaproa, la deuda interminable del PRIAN q...\n",
              "1  PROFECO advierte que Nutrileche NO es leche; »...\n",
              "2  Fuerte golpe al PRIAN: Senado aprueba confisca...\n",
              "3  Estos son los TELÉFONOS para que llames y te c...\n",
              "4  Revelan que Angélica Rivera y esposa de Osorio...\n",
              "5  Ella es la descendiente de Miguel Hidalgo y Co..."
            ],
            "text/html": [
              "\n",
              "  <div id=\"df-2065846e-4479-42fd-b49f-b5c51a5681ca\">\n",
              "    <div class=\"colab-df-container\">\n",
              "      <div>\n",
              "<style scoped>\n",
              "    .dataframe tbody tr th:only-of-type {\n",
              "        vertical-align: middle;\n",
              "    }\n",
              "\n",
              "    .dataframe tbody tr th {\n",
              "        vertical-align: top;\n",
              "    }\n",
              "\n",
              "    .dataframe thead th {\n",
              "        text-align: right;\n",
              "    }\n",
              "</style>\n",
              "<table border=\"1\" class=\"dataframe\">\n",
              "  <thead>\n",
              "    <tr style=\"text-align: right;\">\n",
              "      <th></th>\n",
              "      <th>titles</th>\n",
              "    </tr>\n",
              "  </thead>\n",
              "  <tbody>\n",
              "    <tr>\n",
              "      <th>0</th>\n",
              "      <td>El Fobaproa, la deuda interminable del PRIAN q...</td>\n",
              "    </tr>\n",
              "    <tr>\n",
              "      <th>1</th>\n",
              "      <td>PROFECO advierte que Nutrileche NO es leche; »...</td>\n",
              "    </tr>\n",
              "    <tr>\n",
              "      <th>2</th>\n",
              "      <td>Fuerte golpe al PRIAN: Senado aprueba confisca...</td>\n",
              "    </tr>\n",
              "    <tr>\n",
              "      <th>3</th>\n",
              "      <td>Estos son los TELÉFONOS para que llames y te c...</td>\n",
              "    </tr>\n",
              "    <tr>\n",
              "      <th>4</th>\n",
              "      <td>Revelan que Angélica Rivera y esposa de Osorio...</td>\n",
              "    </tr>\n",
              "    <tr>\n",
              "      <th>5</th>\n",
              "      <td>Ella es la descendiente de Miguel Hidalgo y Co...</td>\n",
              "    </tr>\n",
              "  </tbody>\n",
              "</table>\n",
              "</div>\n",
              "      <button class=\"colab-df-convert\" onclick=\"convertToInteractive('df-2065846e-4479-42fd-b49f-b5c51a5681ca')\"\n",
              "              title=\"Convert this dataframe to an interactive table.\"\n",
              "              style=\"display:none;\">\n",
              "        \n",
              "  <svg xmlns=\"http://www.w3.org/2000/svg\" height=\"24px\"viewBox=\"0 0 24 24\"\n",
              "       width=\"24px\">\n",
              "    <path d=\"M0 0h24v24H0V0z\" fill=\"none\"/>\n",
              "    <path d=\"M18.56 5.44l.94 2.06.94-2.06 2.06-.94-2.06-.94-.94-2.06-.94 2.06-2.06.94zm-11 1L8.5 8.5l.94-2.06 2.06-.94-2.06-.94L8.5 2.5l-.94 2.06-2.06.94zm10 10l.94 2.06.94-2.06 2.06-.94-2.06-.94-.94-2.06-.94 2.06-2.06.94z\"/><path d=\"M17.41 7.96l-1.37-1.37c-.4-.4-.92-.59-1.43-.59-.52 0-1.04.2-1.43.59L10.3 9.45l-7.72 7.72c-.78.78-.78 2.05 0 2.83L4 21.41c.39.39.9.59 1.41.59.51 0 1.02-.2 1.41-.59l7.78-7.78 2.81-2.81c.8-.78.8-2.07 0-2.86zM5.41 20L4 18.59l7.72-7.72 1.47 1.35L5.41 20z\"/>\n",
              "  </svg>\n",
              "      </button>\n",
              "      \n",
              "  <style>\n",
              "    .colab-df-container {\n",
              "      display:flex;\n",
              "      flex-wrap:wrap;\n",
              "      gap: 12px;\n",
              "    }\n",
              "\n",
              "    .colab-df-convert {\n",
              "      background-color: #E8F0FE;\n",
              "      border: none;\n",
              "      border-radius: 50%;\n",
              "      cursor: pointer;\n",
              "      display: none;\n",
              "      fill: #1967D2;\n",
              "      height: 32px;\n",
              "      padding: 0 0 0 0;\n",
              "      width: 32px;\n",
              "    }\n",
              "\n",
              "    .colab-df-convert:hover {\n",
              "      background-color: #E2EBFA;\n",
              "      box-shadow: 0px 1px 2px rgba(60, 64, 67, 0.3), 0px 1px 3px 1px rgba(60, 64, 67, 0.15);\n",
              "      fill: #174EA6;\n",
              "    }\n",
              "\n",
              "    [theme=dark] .colab-df-convert {\n",
              "      background-color: #3B4455;\n",
              "      fill: #D2E3FC;\n",
              "    }\n",
              "\n",
              "    [theme=dark] .colab-df-convert:hover {\n",
              "      background-color: #434B5C;\n",
              "      box-shadow: 0px 1px 3px 1px rgba(0, 0, 0, 0.15);\n",
              "      filter: drop-shadow(0px 1px 2px rgba(0, 0, 0, 0.3));\n",
              "      fill: #FFFFFF;\n",
              "    }\n",
              "  </style>\n",
              "\n",
              "      <script>\n",
              "        const buttonEl =\n",
              "          document.querySelector('#df-2065846e-4479-42fd-b49f-b5c51a5681ca button.colab-df-convert');\n",
              "        buttonEl.style.display =\n",
              "          google.colab.kernel.accessAllowed ? 'block' : 'none';\n",
              "\n",
              "        async function convertToInteractive(key) {\n",
              "          const element = document.querySelector('#df-2065846e-4479-42fd-b49f-b5c51a5681ca');\n",
              "          const dataTable =\n",
              "            await google.colab.kernel.invokeFunction('convertToInteractive',\n",
              "                                                     [key], {});\n",
              "          if (!dataTable) return;\n",
              "\n",
              "          const docLinkHtml = 'Like what you see? Visit the ' +\n",
              "            '<a target=\"_blank\" href=https://colab.research.google.com/notebooks/data_table.ipynb>data table notebook</a>'\n",
              "            + ' to learn more about interactive tables.';\n",
              "          element.innerHTML = '';\n",
              "          dataTable['output_type'] = 'display_data';\n",
              "          await google.colab.output.renderOutput(dataTable, element);\n",
              "          const docLink = document.createElement('div');\n",
              "          docLink.innerHTML = docLinkHtml;\n",
              "          element.appendChild(docLink);\n",
              "        }\n",
              "      </script>\n",
              "    </div>\n",
              "  </div>\n",
              "  "
            ]
          },
          "metadata": {},
          "execution_count": 62
        }
      ]
    },
    {
      "cell_type": "code",
      "source": [],
      "metadata": {
        "id": "JvYwStywJko9"
      },
      "execution_count": null,
      "outputs": []
    },
    {
      "cell_type": "code",
      "source": [
        "url_3=\"https://argumentopolitico.org/category/politica/\"\n",
        "\n",
        "res_3 = requests.get(url_3)\n",
        "soup_3 = BeautifulSoup(res_3.text)"
      ],
      "metadata": {
        "id": "ZQnC3zHlJ-72"
      },
      "execution_count": null,
      "outputs": []
    },
    {
      "cell_type": "code",
      "source": [
        "fake_news_3=soup_3.select('#post-117401 > header > h2')\n",
        "fake_news_3"
      ],
      "metadata": {
        "colab": {
          "base_uri": "https://localhost:8080/"
        },
        "id": "wvn2DWv3KHYb",
        "outputId": "7a3000a3-5b45-49c6-8d43-442a7a2e8851"
      },
      "execution_count": null,
      "outputs": [
        {
          "output_type": "execute_result",
          "data": {
            "text/plain": [
              "[]"
            ]
          },
          "metadata": {},
          "execution_count": 66
        }
      ]
    },
    {
      "cell_type": "code",
      "source": [
        "tree = html.fromstring(res_3.content) "
      ],
      "metadata": {
        "id": "sCM7lIfZMRTS"
      },
      "execution_count": null,
      "outputs": []
    },
    {
      "cell_type": "code",
      "source": [
        "url=\"https://www.argumentopolitico.com/search/label/Pol%C3%ADtica\"\n",
        "\n",
        "res_5 = requests.get(url)\n",
        "soup_22_11 = BeautifulSoup(res_5.text)\n",
        "\n",
        "fake_news_22_11=soup_22_11.select('.entry-title a')\n",
        "fake_news_22_11"
      ],
      "metadata": {
        "id": "hLSZPOtYM7kJ",
        "colab": {
          "base_uri": "https://localhost:8080/"
        },
        "outputId": "95b6f57b-09f0-49be-fba2-a29b3f4be7f8"
      },
      "execution_count": null,
      "outputs": [
        {
          "output_type": "execute_result",
          "data": {
            "text/plain": [
              "[<a href=\"https://www.argumentopolitico.com/2020/09/abogada-denuncia-amlo-por-muerte-de.html\">\n",
              " Abogada denuncia  a AMLO por muerte de niño 2 años por falta de medicamento contra cáncer\n",
              " </a>,\n",
              " <a href=\"https://www.argumentopolitico.com/2020/09/enamora-excandidata-del-pri-al-dar.html\">\n",
              " Enamora excandidata del PRI al dar despensas en cuarentena; tiene unos enormes sentimientos\n",
              " </a>,\n",
              " <a href=\"https://www.argumentopolitico.com/2020/09/aqui-esta-el-pri-el-partido-de-las.html\">\n",
              " «Aquí está el PRI, el Partido de las Mujeres»: Nosotros si las cuidamos, AMLO no sirve\n",
              " </a>,\n",
              " <a href=\"https://www.argumentopolitico.com/2020/09/miles-de-chairos-piden-que-para-2021-se.html\">\n",
              " Miles de chairos piden que para 2021 se rife la Casa Blanca de “La Gaviota”.\n",
              " </a>,\n",
              " <a href=\"https://www.argumentopolitico.com/2020/09/abuelitos-compran-cachitos-tras-recibir.html\">\n",
              " Abuelitos compran “cachitos” tras recibir operación en el IMSS “quieren devolver un poco\"\n",
              " </a>,\n",
              " <a href=\"https://www.argumentopolitico.com/2020/09/revelan-sueldazo-que-cobraria-galilea.html\">\n",
              " Revelan sueldazo que cobraría Galilea Montijo en Latinus de Loret de Mola para tundir al inutil de AMLO\n",
              " </a>,\n",
              " <a href=\"https://www.argumentopolitico.com/2020/09/fueron-unas-ratas-corruptas-ladrones-y.html\">\n",
              " “Fueron unas ratas corruptas, ladrones y tramposos”, Damián Alcázar llama a realizar juicio a expresidentes\n",
              " </a>,\n",
              " <a href=\"https://www.argumentopolitico.com/2020/03/ricardo-aleman-se-suma-convoca-nuevas.html\">\n",
              " Ricardo Alemán se suma, convoca a nuevas elecciones y la destitución de AMLO basados en el Articulo 39 y 87 de la Constitución\n",
              " </a>,\n",
              " <a href=\"https://www.argumentopolitico.com/2020/03/el-pri-ha-sacado-de-la-miseria-este.html\">\n",
              " El PRI ha sacado de la miseria a este país\": José Narro Robles \n",
              " </a>,\n",
              " <a href=\"https://www.argumentopolitico.com/2019/01/ya-son-300-mil-firmas-que-piden-que.html\">\n",
              " Ya son 300 mil firmas que  piden que Carmen Salinas termine en prisión. ¿Estas de acuerdo?\n",
              " </a>,\n",
              " <a href=\"https://www.argumentopolitico.com/2019/01/el-hijo-del-corrupto-de-obrador-usa_18.html\">\n",
              " El Hijo del corrupto de Obrador usa camisas de más de 6 mil pesos: Ricardo Alemán  \n",
              " </a>,\n",
              " <a href=\"https://www.argumentopolitico.com/2019/01/las-mujeres-y-hombres-del-pri-somos-los.html\">\n",
              "  Las mujeres y hombres del (PRI) somos los únicos con capacidad para gobernar: Enrique Ochoa\n",
              " </a>,\n",
              " <a href=\"https://www.argumentopolitico.com/2018/10/diputada-de-morena-teme-por-su-vida-al.html\">\n",
              "   Diputada de Morena \"Teme por su vida\" al destapar el fraude de la reforma energética de Peña Nieto.\n",
              " </a>,\n",
              " <a href=\"https://www.argumentopolitico.com/2018/10/marti-batres-presento-una-iniciativa.html\">\n",
              "  Martí Batres  presento una iniciativa para juzgar a Salinas, Zedillo, Fox, Calderón y Peña\n",
              " </a>,\n",
              " <a href=\"https://www.argumentopolitico.com/2018/10/le-arrojan-tacos-y-comida-angelica.html\">\n",
              " Le arrojan tacos y comida a Angélica Rivera y a sus hijas mientras pasean en Xochimilco \n",
              " </a>]"
            ]
          },
          "metadata": {},
          "execution_count": 3
        }
      ]
    },
    {
      "cell_type": "code",
      "source": [
        "url=\"https://www.argumentopolitico.com/search/label/Pol%C3%ADtica\"\n",
        "\n",
        "res_6 = requests.get(url)\n",
        "soup_23_11 = BeautifulSoup(res_6.text)\n",
        "\n",
        "fake_news_23_11=soup_23_11.select('.entry-title a')\n",
        "fake_news_23_11"
      ],
      "metadata": {
        "colab": {
          "base_uri": "https://localhost:8080/"
        },
        "id": "TKQM4U0yCncC",
        "outputId": "36823cbe-dc70-4af2-eca7-2eed27c1bb96"
      },
      "execution_count": null,
      "outputs": [
        {
          "output_type": "execute_result",
          "data": {
            "text/plain": [
              "[<a href=\"https://www.argumentopolitico.com/2020/09/abogada-denuncia-amlo-por-muerte-de.html\">\n",
              " Abogada denuncia  a AMLO por muerte de niño 2 años por falta de medicamento contra cáncer\n",
              " </a>,\n",
              " <a href=\"https://www.argumentopolitico.com/2020/09/enamora-excandidata-del-pri-al-dar.html\">\n",
              " Enamora excandidata del PRI al dar despensas en cuarentena; tiene unos enormes sentimientos\n",
              " </a>,\n",
              " <a href=\"https://www.argumentopolitico.com/2020/09/aqui-esta-el-pri-el-partido-de-las.html\">\n",
              " «Aquí está el PRI, el Partido de las Mujeres»: Nosotros si las cuidamos, AMLO no sirve\n",
              " </a>,\n",
              " <a href=\"https://www.argumentopolitico.com/2020/09/miles-de-chairos-piden-que-para-2021-se.html\">\n",
              " Miles de chairos piden que para 2021 se rife la Casa Blanca de “La Gaviota”.\n",
              " </a>,\n",
              " <a href=\"https://www.argumentopolitico.com/2020/09/abuelitos-compran-cachitos-tras-recibir.html\">\n",
              " Abuelitos compran “cachitos” tras recibir operación en el IMSS “quieren devolver un poco\"\n",
              " </a>,\n",
              " <a href=\"https://www.argumentopolitico.com/2020/09/revelan-sueldazo-que-cobraria-galilea.html\">\n",
              " Revelan sueldazo que cobraría Galilea Montijo en Latinus de Loret de Mola para tundir al inutil de AMLO\n",
              " </a>,\n",
              " <a href=\"https://www.argumentopolitico.com/2020/09/fueron-unas-ratas-corruptas-ladrones-y.html\">\n",
              " “Fueron unas ratas corruptas, ladrones y tramposos”, Damián Alcázar llama a realizar juicio a expresidentes\n",
              " </a>,\n",
              " <a href=\"https://www.argumentopolitico.com/2020/03/ricardo-aleman-se-suma-convoca-nuevas.html\">\n",
              " Ricardo Alemán se suma, convoca a nuevas elecciones y la destitución de AMLO basados en el Articulo 39 y 87 de la Constitución\n",
              " </a>,\n",
              " <a href=\"https://www.argumentopolitico.com/2020/03/el-pri-ha-sacado-de-la-miseria-este.html\">\n",
              " El PRI ha sacado de la miseria a este país\": José Narro Robles \n",
              " </a>,\n",
              " <a href=\"https://www.argumentopolitico.com/2019/01/ya-son-300-mil-firmas-que-piden-que.html\">\n",
              " Ya son 300 mil firmas que  piden que Carmen Salinas termine en prisión. ¿Estas de acuerdo?\n",
              " </a>,\n",
              " <a href=\"https://www.argumentopolitico.com/2019/01/el-hijo-del-corrupto-de-obrador-usa_18.html\">\n",
              " El Hijo del corrupto de Obrador usa camisas de más de 6 mil pesos: Ricardo Alemán  \n",
              " </a>,\n",
              " <a href=\"https://www.argumentopolitico.com/2019/01/las-mujeres-y-hombres-del-pri-somos-los.html\">\n",
              "  Las mujeres y hombres del (PRI) somos los únicos con capacidad para gobernar: Enrique Ochoa\n",
              " </a>,\n",
              " <a href=\"https://www.argumentopolitico.com/2018/10/diputada-de-morena-teme-por-su-vida-al.html\">\n",
              "   Diputada de Morena \"Teme por su vida\" al destapar el fraude de la reforma energética de Peña Nieto.\n",
              " </a>,\n",
              " <a href=\"https://www.argumentopolitico.com/2018/10/marti-batres-presento-una-iniciativa.html\">\n",
              "  Martí Batres  presento una iniciativa para juzgar a Salinas, Zedillo, Fox, Calderón y Peña\n",
              " </a>,\n",
              " <a href=\"https://www.argumentopolitico.com/2018/10/le-arrojan-tacos-y-comida-angelica.html\">\n",
              " Le arrojan tacos y comida a Angélica Rivera y a sus hijas mientras pasean en Xochimilco \n",
              " </a>]"
            ]
          },
          "metadata": {},
          "execution_count": 2
        }
      ]
    },
    {
      "cell_type": "code",
      "source": [
        "fake_news.to_csv('fake_news.csv')"
      ],
      "metadata": {
        "colab": {
          "base_uri": "https://localhost:8080/",
          "height": 165
        },
        "id": "jnZHAD5BTjIo",
        "outputId": "5fe4cd16-1472-44c0-d75e-1f79629fefdd"
      },
      "execution_count": 2,
      "outputs": [
        {
          "output_type": "error",
          "ename": "NameError",
          "evalue": "ignored",
          "traceback": [
            "\u001b[0;31m---------------------------------------------------------------------------\u001b[0m",
            "\u001b[0;31mNameError\u001b[0m                                 Traceback (most recent call last)",
            "\u001b[0;32m<ipython-input-2-d0d4f72ab16e>\u001b[0m in \u001b[0;36m<module>\u001b[0;34m\u001b[0m\n\u001b[0;32m----> 1\u001b[0;31m \u001b[0mfake_news\u001b[0m\u001b[0;34m.\u001b[0m\u001b[0mto_csv\u001b[0m\u001b[0;34m(\u001b[0m\u001b[0;34m'fake_news.csv'\u001b[0m\u001b[0;34m)\u001b[0m\u001b[0;34m\u001b[0m\u001b[0;34m\u001b[0m\u001b[0m\n\u001b[0m",
            "\u001b[0;31mNameError\u001b[0m: name 'fake_news' is not defined"
          ]
        }
      ]
    },
    {
      "cell_type": "code",
      "source": [],
      "metadata": {
        "id": "QtOxrvLzTjjf"
      },
      "execution_count": null,
      "outputs": []
    }
  ]
}