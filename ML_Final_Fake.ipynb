{
  "nbformat": 4,
  "nbformat_minor": 0,
  "metadata": {
    "colab": {
      "provenance": [],
      "authorship_tag": "ABX9TyPoeygyL0rzYuZmF+PF0O6t",
      "include_colab_link": true
    },
    "kernelspec": {
      "name": "python3",
      "display_name": "Python 3"
    },
    "language_info": {
      "name": "python"
    }
  },
  "cells": [
    {
      "cell_type": "markdown",
      "metadata": {
        "id": "view-in-github",
        "colab_type": "text"
      },
      "source": [
        "<a href=\"https://colab.research.google.com/github/Radwa-Radwan/ML-Project/blob/main/ML_Final_Fake.ipynb\" target=\"_parent\"><img src=\"https://colab.research.google.com/assets/colab-badge.svg\" alt=\"Open In Colab\"/></a>"
      ]
    },
    {
      "cell_type": "code",
      "execution_count": 13,
      "metadata": {
        "id": "Gv0vO71enJYc"
      },
      "outputs": [],
      "source": [
        "from bs4 import BeautifulSoup\n",
        "import requests"
      ]
    },
    {
      "cell_type": "code",
      "source": [
        "url=\"https://www.argumentopolitico.com/\"\n",
        "\n",
        "res = requests.get(url)\n",
        "soup = BeautifulSoup(res.text)"
      ],
      "metadata": {
        "id": "Kn0UHmsxqz0W"
      },
      "execution_count": 15,
      "outputs": []
    },
    {
      "cell_type": "code",
      "source": [
        "fake_news=soup.select('.grippy-host , #vdo_logo_parent , .entry-title a')\n",
        "fake_news"
      ],
      "metadata": {
        "colab": {
          "base_uri": "https://localhost:8080/"
        },
        "id": "H8Aib8h_th-A",
        "outputId": "62baf67c-e427-48b8-c999-e8d82f2df404"
      },
      "execution_count": 22,
      "outputs": [
        {
          "output_type": "execute_result",
          "data": {
            "text/plain": [
              "[<a href=\"https://www.argumentopolitico.com/2022/11/alerta-dos-volcanes-estallan-en-rusia.html\">\n",
              " ALERTA: Dos volcanes estallan en Rusia, se teme lo peor\n",
              " </a>,\n",
              " <a href=\"https://www.argumentopolitico.com/2022/11/deja-camara-grabando-en-su-rancho-y.html\">\n",
              " Deja cámara grabando en su rancho y termina con los pelos de punta, video causa pánico\n",
              " </a>,\n",
              " <a href=\"https://www.argumentopolitico.com/2022/11/la-tragedia-cae-nuevamente-en-la.html\">\n",
              " La tragedia cae nuevamente en la familia de Ariadna Fernanda;  su madre da fuerte mensaje\n",
              " </a>,\n",
              " <a href=\"https://www.argumentopolitico.com/2022/11/solo-un-genio-es-capaz-de-ver-el-error_10.html\">\n",
              " Solo un genio es capaz de ver el error aquí en este acertijo visual de la cena romantica\n",
              " </a>,\n",
              " <a href=\"https://www.argumentopolitico.com/2022/11/alerta-en-la-falla-san-andres-se_10.html\">\n",
              " Alerta en la Falla San Andrés, se registra  Ola de sismos en todo el mundo\n",
              " </a>,\n",
              " <a href=\"https://www.argumentopolitico.com/2022/11/los-tigres-del-norte-va-al-lugar-donde.html\">\n",
              " Los Tigres del Norte  va al lugar donde ocurrió la desgracia de su madre y encuentran una horrible sorpresa .\n",
              " </a>,\n",
              " <a href=\"https://www.argumentopolitico.com/2022/11/menores-en-moto-chocan-con-trailer-y.html\">\n",
              " Menores en moto chocan con trailer y mueren atropellados, Madres llegan y lloran por sus angelitos \n",
              " </a>]"
            ]
          },
          "metadata": {},
          "execution_count": 22
        }
      ]
    },
    {
      "cell_type": "code",
      "source": [
        "news_titles = [title.text for title in fake_news]\n",
        "news_links = [\"https://www.argumentopolitico.com/\"+title[\"href\"] for title in fake_news]\n",
        "\n",
        "news_titles"
      ],
      "metadata": {
        "colab": {
          "base_uri": "https://localhost:8080/"
        },
        "id": "AZaK1NhBvPEG",
        "outputId": "6cc87ec9-65f3-4fe9-95cc-023cd7ac89db"
      },
      "execution_count": 26,
      "outputs": [
        {
          "output_type": "execute_result",
          "data": {
            "text/plain": [
              "['\\nALERTA: Dos volcanes estallan en Rusia, se teme lo peor\\n',\n",
              " '\\nDeja cámara grabando en su rancho y termina con los pelos de punta, video causa pánico\\n',\n",
              " '\\nLa tragedia cae nuevamente en la familia de Ariadna Fernanda;  su madre da fuerte mensaje\\n',\n",
              " '\\nSolo un genio es capaz de ver el error aquí en este acertijo visual de la cena romantica\\n',\n",
              " '\\nAlerta en la Falla San Andrés, se registra  Ola de sismos en todo el mundo\\n',\n",
              " '\\nLos Tigres del Norte  va al lugar donde ocurrió la desgracia de su madre y encuentran una horrible sorpresa .\\n',\n",
              " '\\nMenores en moto chocan con trailer y mueren atropellados, Madres llegan y lloran por sus angelitos \\n']"
            ]
          },
          "metadata": {},
          "execution_count": 26
        }
      ]
    },
    {
      "cell_type": "code",
      "source": [
        "import pandas as pd\n"
      ],
      "metadata": {
        "id": "LLs89QoDvqpo"
      },
      "execution_count": 37,
      "outputs": []
    },
    {
      "cell_type": "code",
      "source": [
        "titles_df= pd.DataFrame(news_titles, columns=['titles'])\n",
        "titles_df"
      ],
      "metadata": {
        "colab": {
          "base_uri": "https://localhost:8080/",
          "height": 269
        },
        "id": "OOLRUfjPv0Y3",
        "outputId": "8910ea6a-a1f5-406f-c25b-65ab044eb5cc"
      },
      "execution_count": 40,
      "outputs": [
        {
          "output_type": "execute_result",
          "data": {
            "text/plain": [
              "                                              titles\n",
              "0  \\nALERTA: Dos volcanes estallan en Rusia, se t...\n",
              "1  \\nDeja cámara grabando en su rancho y termina ...\n",
              "2  \\nLa tragedia cae nuevamente en la familia de ...\n",
              "3  \\nSolo un genio es capaz de ver el error aquí ...\n",
              "4  \\nAlerta en la Falla San Andrés, se registra  ...\n",
              "5  \\nLos Tigres del Norte  va al lugar donde ocur...\n",
              "6  \\nMenores en moto chocan con trailer y mueren ..."
            ],
            "text/html": [
              "\n",
              "  <div id=\"df-63748f15-1bd6-41b9-8130-8667ce76121b\">\n",
              "    <div class=\"colab-df-container\">\n",
              "      <div>\n",
              "<style scoped>\n",
              "    .dataframe tbody tr th:only-of-type {\n",
              "        vertical-align: middle;\n",
              "    }\n",
              "\n",
              "    .dataframe tbody tr th {\n",
              "        vertical-align: top;\n",
              "    }\n",
              "\n",
              "    .dataframe thead th {\n",
              "        text-align: right;\n",
              "    }\n",
              "</style>\n",
              "<table border=\"1\" class=\"dataframe\">\n",
              "  <thead>\n",
              "    <tr style=\"text-align: right;\">\n",
              "      <th></th>\n",
              "      <th>titles</th>\n",
              "    </tr>\n",
              "  </thead>\n",
              "  <tbody>\n",
              "    <tr>\n",
              "      <th>0</th>\n",
              "      <td>\\nALERTA: Dos volcanes estallan en Rusia, se t...</td>\n",
              "    </tr>\n",
              "    <tr>\n",
              "      <th>1</th>\n",
              "      <td>\\nDeja cámara grabando en su rancho y termina ...</td>\n",
              "    </tr>\n",
              "    <tr>\n",
              "      <th>2</th>\n",
              "      <td>\\nLa tragedia cae nuevamente en la familia de ...</td>\n",
              "    </tr>\n",
              "    <tr>\n",
              "      <th>3</th>\n",
              "      <td>\\nSolo un genio es capaz de ver el error aquí ...</td>\n",
              "    </tr>\n",
              "    <tr>\n",
              "      <th>4</th>\n",
              "      <td>\\nAlerta en la Falla San Andrés, se registra  ...</td>\n",
              "    </tr>\n",
              "    <tr>\n",
              "      <th>5</th>\n",
              "      <td>\\nLos Tigres del Norte  va al lugar donde ocur...</td>\n",
              "    </tr>\n",
              "    <tr>\n",
              "      <th>6</th>\n",
              "      <td>\\nMenores en moto chocan con trailer y mueren ...</td>\n",
              "    </tr>\n",
              "  </tbody>\n",
              "</table>\n",
              "</div>\n",
              "      <button class=\"colab-df-convert\" onclick=\"convertToInteractive('df-63748f15-1bd6-41b9-8130-8667ce76121b')\"\n",
              "              title=\"Convert this dataframe to an interactive table.\"\n",
              "              style=\"display:none;\">\n",
              "        \n",
              "  <svg xmlns=\"http://www.w3.org/2000/svg\" height=\"24px\"viewBox=\"0 0 24 24\"\n",
              "       width=\"24px\">\n",
              "    <path d=\"M0 0h24v24H0V0z\" fill=\"none\"/>\n",
              "    <path d=\"M18.56 5.44l.94 2.06.94-2.06 2.06-.94-2.06-.94-.94-2.06-.94 2.06-2.06.94zm-11 1L8.5 8.5l.94-2.06 2.06-.94-2.06-.94L8.5 2.5l-.94 2.06-2.06.94zm10 10l.94 2.06.94-2.06 2.06-.94-2.06-.94-.94-2.06-.94 2.06-2.06.94z\"/><path d=\"M17.41 7.96l-1.37-1.37c-.4-.4-.92-.59-1.43-.59-.52 0-1.04.2-1.43.59L10.3 9.45l-7.72 7.72c-.78.78-.78 2.05 0 2.83L4 21.41c.39.39.9.59 1.41.59.51 0 1.02-.2 1.41-.59l7.78-7.78 2.81-2.81c.8-.78.8-2.07 0-2.86zM5.41 20L4 18.59l7.72-7.72 1.47 1.35L5.41 20z\"/>\n",
              "  </svg>\n",
              "      </button>\n",
              "      \n",
              "  <style>\n",
              "    .colab-df-container {\n",
              "      display:flex;\n",
              "      flex-wrap:wrap;\n",
              "      gap: 12px;\n",
              "    }\n",
              "\n",
              "    .colab-df-convert {\n",
              "      background-color: #E8F0FE;\n",
              "      border: none;\n",
              "      border-radius: 50%;\n",
              "      cursor: pointer;\n",
              "      display: none;\n",
              "      fill: #1967D2;\n",
              "      height: 32px;\n",
              "      padding: 0 0 0 0;\n",
              "      width: 32px;\n",
              "    }\n",
              "\n",
              "    .colab-df-convert:hover {\n",
              "      background-color: #E2EBFA;\n",
              "      box-shadow: 0px 1px 2px rgba(60, 64, 67, 0.3), 0px 1px 3px 1px rgba(60, 64, 67, 0.15);\n",
              "      fill: #174EA6;\n",
              "    }\n",
              "\n",
              "    [theme=dark] .colab-df-convert {\n",
              "      background-color: #3B4455;\n",
              "      fill: #D2E3FC;\n",
              "    }\n",
              "\n",
              "    [theme=dark] .colab-df-convert:hover {\n",
              "      background-color: #434B5C;\n",
              "      box-shadow: 0px 1px 3px 1px rgba(0, 0, 0, 0.15);\n",
              "      filter: drop-shadow(0px 1px 2px rgba(0, 0, 0, 0.3));\n",
              "      fill: #FFFFFF;\n",
              "    }\n",
              "  </style>\n",
              "\n",
              "      <script>\n",
              "        const buttonEl =\n",
              "          document.querySelector('#df-63748f15-1bd6-41b9-8130-8667ce76121b button.colab-df-convert');\n",
              "        buttonEl.style.display =\n",
              "          google.colab.kernel.accessAllowed ? 'block' : 'none';\n",
              "\n",
              "        async function convertToInteractive(key) {\n",
              "          const element = document.querySelector('#df-63748f15-1bd6-41b9-8130-8667ce76121b');\n",
              "          const dataTable =\n",
              "            await google.colab.kernel.invokeFunction('convertToInteractive',\n",
              "                                                     [key], {});\n",
              "          if (!dataTable) return;\n",
              "\n",
              "          const docLinkHtml = 'Like what you see? Visit the ' +\n",
              "            '<a target=\"_blank\" href=https://colab.research.google.com/notebooks/data_table.ipynb>data table notebook</a>'\n",
              "            + ' to learn more about interactive tables.';\n",
              "          element.innerHTML = '';\n",
              "          dataTable['output_type'] = 'display_data';\n",
              "          await google.colab.output.renderOutput(dataTable, element);\n",
              "          const docLink = document.createElement('div');\n",
              "          docLink.innerHTML = docLinkHtml;\n",
              "          element.appendChild(docLink);\n",
              "        }\n",
              "      </script>\n",
              "    </div>\n",
              "  </div>\n",
              "  "
            ]
          },
          "metadata": {},
          "execution_count": 40
        }
      ]
    },
    {
      "cell_type": "code",
      "source": [],
      "metadata": {
        "id": "6AD5np_Q_3Mx"
      },
      "execution_count": 43,
      "outputs": []
    },
    {
      "cell_type": "code",
      "source": [],
      "metadata": {
        "id": "_2cPBTlM_7GW"
      },
      "execution_count": null,
      "outputs": []
    }
  ]
}